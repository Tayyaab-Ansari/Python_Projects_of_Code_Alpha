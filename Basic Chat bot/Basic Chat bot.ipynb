{
 "cells": [
  {
   "cell_type": "code",
   "execution_count": 1,
   "id": "e817d6ee-d74a-4377-b193-1bd15c854fbc",
   "metadata": {},
   "outputs": [],
   "source": [
    "import spacy\n",
    "import re"
   ]
  },
  {
   "cell_type": "code",
   "execution_count": 2,
   "id": "1c0b3333-4c45-4bc5-b912-e7b26e8175b4",
   "metadata": {},
   "outputs": [],
   "source": [
    "nlp = spacy.load(\"en_core_web_sm\")\n",
    "BOT_NAME = \"PyBot\"\n",
    "capitals = {\n",
    "    \"france\": \"Paris\",\n",
    "    \"germany\": \"Berlin\",\n",
    "    \"italy\": \"Rome\",\n",
    "    \"spain\": \"Madrid\",\n",
    "    \"united states\": \"Washington, D.C.\",\n",
    "    \"canada\": \"Ottawa\",\n",
    "    \"india\": \"New Delhi\",\n",
    "    \"japan\": \"Tokyo\",\n",
    "    \"australia\": \"Canberra\",\n",
    "    \"brazil\": \"Brasília\"\n",
    "}\n",
    "\n",
    "responses = {\n",
    "    \"greet\": [f\"Hello! I'm {BOT_NAME}. How can I assist you today?\", \"Hi there! What can I help you with?\"],\n",
    "    \"bye\": [\"Goodbye! Have a wonderful day!\", \"Bye! Take care!\"],\n",
    "    \"thanks\": [\"You're welcome!\", \"No problem!\", \"Glad to help!\"],\n",
    "    \"name\": [f\"My name is {BOT_NAME}.\", f\"I go by {BOT_NAME}, your personal assistant.\"]\n",
    "}"
   ]
  },
  {
   "cell_type": "code",
   "execution_count": 3,
   "id": "38693e11-bdfb-498d-a9a8-82b8c15f7255",
   "metadata": {},
   "outputs": [],
   "source": [
    "def get_intent(text):\n",
    "    doc = nlp(text)\n",
    "    if \"hello\" in text.lower() or \"hi\" in text.lower():\n",
    "        return \"greet\"\n",
    "    elif \"bye\" in text.lower() or \"goodbye\" in text.lower():\n",
    "        return \"bye\"\n",
    "    elif \"thank\" in text.lower():\n",
    "        return \"thanks\"\n",
    "    elif \"name\" in text.lower():\n",
    "        return \"name\"\n",
    "    elif \"capital\" in text.lower():\n",
    "        return \"capital\"\n",
    "    if re.search(r'(\\d+)\\s*[\\+\\-\\*/]\\s*(\\d+)', text):\n",
    "        return \"math\"\n",
    "\n",
    "    return None"
   ]
  },
  {
   "cell_type": "code",
   "execution_count": 4,
   "id": "8307b9ec-79c3-456c-a061-2365901be176",
   "metadata": {},
   "outputs": [],
   "source": [
    "def calculate_math(text):\n",
    "    try:\n",
    "        match = re.search(r'(\\d+)\\s*([\\+\\-\\*/])\\s*(\\d+)', text)\n",
    "        if match:\n",
    "            num1 = float(match.group(1))\n",
    "            operator = match.group(2)\n",
    "            num2 = float(match.group(3))\n",
    "            if operator == '+':\n",
    "                return num1 + num2\n",
    "            elif operator == '-':\n",
    "                return num1 - num2\n",
    "            elif operator == '*':\n",
    "                return num1 * num2\n",
    "            elif operator == '/':\n",
    "                if num2 != 0:\n",
    "                    return num1 / num2\n",
    "                else:\n",
    "                    return \"Error: Division by zero.\"\n",
    "    except Exception as e:\n",
    "        return \"Error: Couldn't understand the math operation.\"\n",
    "    \n",
    "    return None"
   ]
  },
  {
   "cell_type": "code",
   "execution_count": 5,
   "id": "8503374b-2161-4020-b68f-69a60ccaf64a",
   "metadata": {},
   "outputs": [],
   "source": [
    "def extract_country(text):\n",
    "    doc = nlp(text)\n",
    "    for entity in doc.ents:\n",
    "        if entity.label_ == \"GPE\":\n",
    "            return entity.text.lower()\n",
    "    return None\n"
   ]
  },
  {
   "cell_type": "code",
   "execution_count": 6,
   "id": "03c41ab6-5535-4473-b420-2139d40eeec5",
   "metadata": {},
   "outputs": [],
   "source": [
    "def chatbot():\n",
    "    print(f\"{BOT_NAME}: Hello! I'm {BOT_NAME}. Type something to start a conversation. Type 'quit' to exit.\")\n",
    "    \n",
    "    while True:\n",
    "        user_input = input(\"You: \")\n",
    "        \n",
    "        if user_input.lower() == 'quit':\n",
    "            print(f\"{BOT_NAME}: Goodbye!\")\n",
    "            break\n",
    "        intent = get_intent(user_input)\n",
    "        if intent == \"math\":\n",
    "            result = calculate_math(user_input)\n",
    "            if result is not None:\n",
    "                print(f\"{BOT_NAME}: The result is {result}.\")\n",
    "            else:\n",
    "                print(f\"{BOT_NAME}: Sorry, I couldn't perform the calculation.\")\n",
    "        elif intent == \"capital\":\n",
    "            country = extract_country(user_input)\n",
    "            if country:\n",
    "                capital = capitals.get(country)\n",
    "                if capital:\n",
    "                    print(f\"{BOT_NAME}: The capital of {country.title()} is {capital}.\")\n",
    "                else:\n",
    "                    print(f\"{BOT_NAME}: Sorry, I don't know the capital of {country.title()}.\")\n",
    "            else:\n",
    "                print(f\"{BOT_NAME}: Please provide a valid country name.\")\n",
    "                \n",
    "        elif intent and intent in responses:\n",
    "            response = responses[intent]\n",
    "            print(f\"{BOT_NAME}: {response[0]}\")\n",
    "        else:\n",
    "            print(f\"{BOT_NAME}: I'm sorry, I didn't understand that.\")"
   ]
  },
  {
   "cell_type": "code",
   "execution_count": 9,
   "id": "49d2acf5-8c5d-4c12-988d-b3cd8619c3d6",
   "metadata": {},
   "outputs": [
    {
     "name": "stdout",
     "output_type": "stream",
     "text": [
      "PyBot: Hello! I'm PyBot. Type something to start a conversation. Type 'quit' to exit.\n"
     ]
    },
    {
     "name": "stdin",
     "output_type": "stream",
     "text": [
      "You:  hello \n"
     ]
    },
    {
     "name": "stdout",
     "output_type": "stream",
     "text": [
      "PyBot: Hello! I'm PyBot. How can I assist you today?\n"
     ]
    },
    {
     "name": "stdin",
     "output_type": "stream",
     "text": [
      "You:  i want help in maths . what is 9*34\n"
     ]
    },
    {
     "name": "stdout",
     "output_type": "stream",
     "text": [
      "PyBot: The result is 306.0.\n"
     ]
    },
    {
     "name": "stdin",
     "output_type": "stream",
     "text": [
      "You:  capital of fracnse\n"
     ]
    },
    {
     "name": "stdout",
     "output_type": "stream",
     "text": [
      "PyBot: Please provide a valid country name.\n"
     ]
    },
    {
     "name": "stdin",
     "output_type": "stream",
     "text": [
      "You:  capital of france\n"
     ]
    },
    {
     "name": "stdout",
     "output_type": "stream",
     "text": [
      "PyBot: The capital of France is Paris.\n"
     ]
    },
    {
     "name": "stdin",
     "output_type": "stream",
     "text": [
      "You:  capiatl of india\n"
     ]
    },
    {
     "name": "stdout",
     "output_type": "stream",
     "text": [
      "PyBot: I'm sorry, I didn't understand that.\n"
     ]
    },
    {
     "name": "stdin",
     "output_type": "stream",
     "text": [
      "You:  capital of India\n"
     ]
    },
    {
     "name": "stdout",
     "output_type": "stream",
     "text": [
      "PyBot: The capital of India is New Delhi.\n"
     ]
    },
    {
     "name": "stdin",
     "output_type": "stream",
     "text": [
      "You:  thanks\n"
     ]
    },
    {
     "name": "stdout",
     "output_type": "stream",
     "text": [
      "PyBot: You're welcome!\n"
     ]
    },
    {
     "name": "stdin",
     "output_type": "stream",
     "text": [
      "You:  bye\n"
     ]
    },
    {
     "name": "stdout",
     "output_type": "stream",
     "text": [
      "PyBot: Goodbye! Have a wonderful day!\n"
     ]
    },
    {
     "name": "stdin",
     "output_type": "stream",
     "text": [
      "You:  quit\n"
     ]
    },
    {
     "name": "stdout",
     "output_type": "stream",
     "text": [
      "PyBot: Goodbye!\n"
     ]
    }
   ],
   "source": [
    "if __name__ == \"__main__\":\n",
    "    chatbot()\n"
   ]
  },
  {
   "cell_type": "code",
   "execution_count": null,
   "id": "5d89f09f-27b4-427f-bb0c-b3e5d79143cd",
   "metadata": {},
   "outputs": [],
   "source": []
  },
  {
   "cell_type": "code",
   "execution_count": null,
   "id": "ed890f00-051b-4220-9cc4-4fa7b1ab46d7",
   "metadata": {},
   "outputs": [],
   "source": []
  }
 ],
 "metadata": {
  "kernelspec": {
   "display_name": "Python 3 (ipykernel)",
   "language": "python",
   "name": "python3"
  },
  "language_info": {
   "codemirror_mode": {
    "name": "ipython",
    "version": 3
   },
   "file_extension": ".py",
   "mimetype": "text/x-python",
   "name": "python",
   "nbconvert_exporter": "python",
   "pygments_lexer": "ipython3",
   "version": "3.11.7"
  }
 },
 "nbformat": 4,
 "nbformat_minor": 5
}
