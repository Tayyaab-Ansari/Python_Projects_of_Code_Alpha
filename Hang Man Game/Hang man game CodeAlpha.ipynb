{
 "cells": [
  {
   "cell_type": "code",
   "execution_count": 3,
   "id": "0e0c0b33-ecef-4492-89e5-881888a85ffa",
   "metadata": {},
   "outputs": [],
   "source": [
    "import random"
   ]
  },
  {
   "cell_type": "code",
   "execution_count": 4,
   "id": "e0d99180-ceda-4d18-aa35-84cb18452d57",
   "metadata": {},
   "outputs": [],
   "source": [
    "def get_random_word():\n",
    "    return random.choice(word_list)"
   ]
  },
  {
   "cell_type": "code",
   "execution_count": 5,
   "id": "092fb365-5b17-4936-880a-38527a118042",
   "metadata": {},
   "outputs": [],
   "source": [
    "def display_status(word, guessed_letters):\n",
    "    display_word = ''.join([letter if letter in guessed_letters else '-' for letter in word])\n",
    "    print(f\"Current word: {display_word}\")\n",
    "    return display_word"
   ]
  },
  {
   "cell_type": "code",
   "execution_count": 6,
   "id": "33096fb2-0217-409b-bd92-a7829e1af85e",
   "metadata": {},
   "outputs": [],
   "source": [
    "def play_hangman():\n",
    "    word = get_random_word()\n",
    "    guessed_letters = set()\n",
    "    lives = 6\n",
    "    print(\"Welcome to Hangman!\")\n",
    "    display_status(word, guessed_letters)\n",
    "    while lives > 0:\n",
    "        guess = input(\"Enter a guessed letter: \").lower()\n",
    "        if len(guess) != 1 or not guess.isalpha():\n",
    "            print(\"Please enter a single valid letter.\")\n",
    "            continue\n",
    "        if guess in guessed_letters:\n",
    "            print(\"You already guessed that letter.\")\n",
    "            continue\n",
    "        guessed_letters.add(guess)\n",
    "        if guess in word:\n",
    "            print(f\"Good guess! '{guess}' is in the word.\")\n",
    "        else:\n",
    "            lives -= 1\n",
    "            print(f\"Wrong guess. {lives} lives left.\")\n",
    "            print(stages[lives])\n",
    "        current_status = display_status(word, guessed_letters)\n",
    "        if '-' not in current_status:\n",
    "            print(\"Congratulations! You won!\")\n",
    "            break\n",
    "    else:\n",
    "        print(f\"You lost. The word was: {word}\")    "
   ]
  },
  {
   "cell_type": "code",
   "execution_count": 7,
   "id": "0b41a071-530e-4b54-8048-bf7d8c778aad",
   "metadata": {},
   "outputs": [],
   "source": [
    "\n",
    "word_list = [\n",
    "    \"apple\", \"banana\", \"cherry\", \"dog\", \"elephant\", \"flower\", \"grape\",\n",
    "    \"house\", \"ice\", \"jungle\", \"kiwi\", \"lemon\", \"mountain\", \"night\",\n",
    "    \"ocean\", \"pencil\", \"quilt\", \"rainbow\", \"sunflower\", \"table\", \"umbrella\",\n",
    "    \"vase\", \"window\", \"xylophone\", \"yacht\", \"zebra\", \"airplane\", \"beach\",\n",
    "    \"cat\", \"dolphin\", \"eagle\", \"forest\", \"guitar\", \"hat\", \"island\",\n",
    "    \"juice\", \"kite\", \"lamp\", \"moon\", \"notebook\", \"octopus\", \"penguin\",\n",
    "    \"robot\", \"star\", \"train\", \"volcano\", \"whale\"\n",
    "]"
   ]
  },
  {
   "cell_type": "code",
   "execution_count": 8,
   "id": "155d0c31-fda0-4b69-a531-301066b8a00b",
   "metadata": {},
   "outputs": [],
   "source": [
    "stages = [\n",
    "    '''\n",
    "       +---+\n",
    "       |   |\n",
    "       O   |\n",
    "      /|\\\\ |\n",
    "      / \\\\ |\n",
    "           |\n",
    "    =========\n",
    "    ''',\n",
    "    '''\n",
    "       +---+\n",
    "       |   |\n",
    "       O   |\n",
    "      /|\\\\ |\n",
    "      /    |\n",
    "           |\n",
    "    =========\n",
    "    ''',\n",
    "    '''\n",
    "       +---+\n",
    "       |   |\n",
    "       O   |\n",
    "      /|\\\\ |\n",
    "           |\n",
    "           |\n",
    "    =========\n",
    "    ''',\n",
    "    '''\n",
    "       +---+\n",
    "       |   |\n",
    "       O   |\n",
    "      /|   |\n",
    "           |\n",
    "           |\n",
    "    =========\n",
    "    ''',\n",
    "    '''\n",
    "       +---+\n",
    "       |   |\n",
    "       O   |\n",
    "       |   |\n",
    "           |\n",
    "           |\n",
    "    =========\n",
    "    ''',\n",
    "    '''\n",
    "       +---+\n",
    "       |   |\n",
    "       O   |\n",
    "           |\n",
    "           |\n",
    "           |\n",
    "    =========\n",
    "    ''',\n",
    "    '''\n",
    "       +---+\n",
    "       |   |\n",
    "           |\n",
    "           |\n",
    "           |\n",
    "           |\n",
    "    =========\n",
    "    '''\n",
    "]"
   ]
  },
  {
   "cell_type": "code",
   "execution_count": 11,
   "id": "0db5eb8e-3c7d-46f6-9cc1-49c214df4232",
   "metadata": {},
   "outputs": [
    {
     "name": "stdout",
     "output_type": "stream",
     "text": [
      "Welcome to Hangman!\n",
      "Current word: ---------\n"
     ]
    },
    {
     "name": "stdin",
     "output_type": "stream",
     "text": [
      "Enter a guessed letter:  a\n"
     ]
    },
    {
     "name": "stdout",
     "output_type": "stream",
     "text": [
      "Wrong guess. 5 lives left.\n",
      "\n",
      "       +---+\n",
      "       |   |\n",
      "       O   |\n",
      "           |\n",
      "           |\n",
      "           |\n",
      "    =========\n",
      "    \n",
      "Current word: ---------\n"
     ]
    },
    {
     "name": "stdin",
     "output_type": "stream",
     "text": [
      "Enter a guessed letter:  r\n"
     ]
    },
    {
     "name": "stdout",
     "output_type": "stream",
     "text": [
      "Wrong guess. 4 lives left.\n",
      "\n",
      "       +---+\n",
      "       |   |\n",
      "       O   |\n",
      "       |   |\n",
      "           |\n",
      "           |\n",
      "    =========\n",
      "    \n",
      "Current word: ---------\n"
     ]
    },
    {
     "name": "stdin",
     "output_type": "stream",
     "text": [
      "Enter a guessed letter:  k\n"
     ]
    },
    {
     "name": "stdout",
     "output_type": "stream",
     "text": [
      "Wrong guess. 3 lives left.\n",
      "\n",
      "       +---+\n",
      "       |   |\n",
      "       O   |\n",
      "      /|   |\n",
      "           |\n",
      "           |\n",
      "    =========\n",
      "    \n",
      "Current word: ---------\n"
     ]
    },
    {
     "name": "stdin",
     "output_type": "stream",
     "text": [
      "Enter a guessed letter:  e\n"
     ]
    },
    {
     "name": "stdout",
     "output_type": "stream",
     "text": [
      "Good guess! 'e' is in the word.\n",
      "Current word: --------e\n"
     ]
    },
    {
     "name": "stdin",
     "output_type": "stream",
     "text": [
      "Enter a guessed letter:  o\n"
     ]
    },
    {
     "name": "stdout",
     "output_type": "stream",
     "text": [
      "Good guess! 'o' is in the word.\n",
      "Current word: ---o--o-e\n"
     ]
    },
    {
     "name": "stdin",
     "output_type": "stream",
     "text": [
      "Enter a guessed letter:  t\n"
     ]
    },
    {
     "name": "stdout",
     "output_type": "stream",
     "text": [
      "Wrong guess. 2 lives left.\n",
      "\n",
      "       +---+\n",
      "       |   |\n",
      "       O   |\n",
      "      /|\\ |\n",
      "           |\n",
      "           |\n",
      "    =========\n",
      "    \n",
      "Current word: ---o--o-e\n"
     ]
    },
    {
     "name": "stdin",
     "output_type": "stream",
     "text": [
      "Enter a guessed letter:  a\n"
     ]
    },
    {
     "name": "stdout",
     "output_type": "stream",
     "text": [
      "You already guessed that letter.\n"
     ]
    },
    {
     "name": "stdin",
     "output_type": "stream",
     "text": [
      "Enter a guessed letter:  j\n"
     ]
    },
    {
     "name": "stdout",
     "output_type": "stream",
     "text": [
      "Wrong guess. 1 lives left.\n",
      "\n",
      "       +---+\n",
      "       |   |\n",
      "       O   |\n",
      "      /|\\ |\n",
      "      /    |\n",
      "           |\n",
      "    =========\n",
      "    \n",
      "Current word: ---o--o-e\n"
     ]
    },
    {
     "name": "stdin",
     "output_type": "stream",
     "text": [
      "Enter a guessed letter:  f\n"
     ]
    },
    {
     "name": "stdout",
     "output_type": "stream",
     "text": [
      "Wrong guess. 0 lives left.\n",
      "\n",
      "       +---+\n",
      "       |   |\n",
      "       O   |\n",
      "      /|\\ |\n",
      "      / \\ |\n",
      "           |\n",
      "    =========\n",
      "    \n",
      "Current word: ---o--o-e\n",
      "You lost. The word was: xylophone\n"
     ]
    }
   ],
   "source": [
    "if __name__ == \"__main__\":\n",
    "    play_hangman()\n"
   ]
  },
  {
   "cell_type": "code",
   "execution_count": null,
   "id": "9559825d-0834-4d41-ad57-1a8377857b8f",
   "metadata": {},
   "outputs": [],
   "source": []
  }
 ],
 "metadata": {
  "kernelspec": {
   "display_name": "Python 3 (ipykernel)",
   "language": "python",
   "name": "python3"
  },
  "language_info": {
   "codemirror_mode": {
    "name": "ipython",
    "version": 3
   },
   "file_extension": ".py",
   "mimetype": "text/x-python",
   "name": "python",
   "nbconvert_exporter": "python",
   "pygments_lexer": "ipython3",
   "version": "3.11.7"
  }
 },
 "nbformat": 4,
 "nbformat_minor": 5
}
